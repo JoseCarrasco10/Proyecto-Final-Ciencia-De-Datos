{
  "metadata": {
    "kernelspec": {
      "name": "python",
      "display_name": "Python (Pyodide)",
      "language": "python"
    },
    "language_info": {
      "codemirror_mode": {
        "name": "python",
        "version": 3
      },
      "file_extension": ".py",
      "mimetype": "text/x-python",
      "name": "python",
      "nbconvert_exporter": "python",
      "pygments_lexer": "ipython3",
      "version": "3.8"
    }
  },
  "nbformat_minor": 4,
  "nbformat": 4,
  "cells": [
    {
      "cell_type": "markdown",
      "source": "# Tools and Concepts in the Data Science Field",
      "metadata": {}
    },
    {
      "cell_type": "markdown",
      "source": "This notebook provides a brief overview of essential tools and practices used in the field of data science.",
      "metadata": {}
    },
    {
      "cell_type": "markdown",
      "source": "## Programming languages used in Data Science\n1. Python\n2. R\n3. SQL\n4. Java\n5. Scala\n6. Julia",
      "metadata": {}
    },
    {
      "cell_type": "markdown",
      "source": "## Most Used Libraries in Python for Data Science\n1. Pandas\n2. NumPy\n3. Matplotlib\n4. Seaborn\n5. Scikit-learn\n6. TensorFlow\n7. PyTorch\n8. Apache Spark\n9. Keras\n10. Plotly",
      "metadata": {}
    },
    {
      "cell_type": "markdown",
      "source": "### Table of Tools Used in Data Science\n\n| Tool             | Brief Description                             |\n|------------------|-----------------------------------------------|\n| Jupyter Notebook | Interactive environment for code and text     |\n| RStudio          | Environment for statistical computing with R  |\n| Apache Spark     | Framework for big data analytics              |\n| TensorFlow       | Deep learning library for AI applications     |\n| Tableau          | Platform for building data visualizations     |",
      "metadata": {}
    },
    {
      "cell_type": "markdown",
      "source": "### Some basic arithmetic operations you can do using Python:",
      "metadata": {}
    },
    {
      "cell_type": "code",
      "source": "# Calculate the result of a multiplication and addition\n(7 * 2) + 3",
      "metadata": {
        "trusted": true
      },
      "outputs": [],
      "execution_count": null
    },
    {
      "cell_type": "code",
      "source": "# Let's convert 150 minutes into hours\n150 / 60",
      "metadata": {
        "trusted": true
      },
      "outputs": [],
      "execution_count": null
    },
    {
      "cell_type": "markdown",
      "source": "### Main Learning Objectives\n\n- Understand how to format markdown cells\n- Use both ordered and unordered lists\n- Write and evaluate basic Python code\n- Practice sharing notebooks through GitHub",
      "metadata": {}
    },
    {
      "cell_type": "markdown",
      "source": "## Author(s)\n\nJosé Carrasco",
      "metadata": {}
    }
  ]
}
