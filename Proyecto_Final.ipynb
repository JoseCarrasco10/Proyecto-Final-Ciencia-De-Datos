{
  "metadata": {
    "kernelspec": {
      "name": "python",
      "display_name": "Python (Pyodide)",
      "language": "python"
    },
    "language_info": {
      "codemirror_mode": {
        "name": "python",
        "version": 3
      },
      "file_extension": ".py",
      "mimetype": "text/x-python",
      "name": "python",
      "nbconvert_exporter": "python",
      "pygments_lexer": "ipython3",
      "version": "3.8"
    }
  },
  "nbformat_minor": 4,
  "nbformat": 4,
  "cells": [
    {
      "cell_type": "markdown",
      "source": "#Proyecto Final - Curso Ciencia de Datos",
      "metadata": {}
    },
    {
      "cell_type": "markdown",
      "source": "En este proyecto final aplicaré los conceptos aprendidos sobre ciencia de datos. Utilizaré celdas Markdown y código en Python para demostrar mis conocimientos, desde operaciones basicas hasta el uso de librerías de análisis.",
      "metadata": {}
    },
    {
      "cell_type": "markdown",
      "source": "## Lenguajes de programacion usados en la ciencia de datos\n1. Python\n2. R\n3. SQL\n4. Java\n5. Scala\n6. Julia",
      "metadata": {}
    },
    {
      "cell_type": "markdown",
      "source": "## Principales bibliotecas de ciencia de datos en Python\n- Pandas\n- Numpy\n- Matplotlib\n- Seaborn\n- Scikit-learn\n- TensorFlow",
      "metadata": {}
    },
    {
      "cell_type": "markdown",
      "source": "## Tabla de herramientas utilizadas en Ciencia de Datos\n\n| Herramienta             | Descripción Breve                       |\n|-------------------------|-----------------------------------------|\n| Jupyter Notebook        | Entorno interactivo para código y texto |\n| RStudio                 | Entorno para análisis de R              |\n| Apache Spark            | Procesamiento de grandes datos          |\n|TensorFlow               | Librería para aprendizaje automático    |\n|Tambleau                 | Visualización de datos                  |",
      "metadata": {}
    },
    {
      "cell_type": "markdown",
      "source": "## Ejemplos de expresiones aritméticas en Python\n\n- Suma: `5 + 3 = 8`\n- Resta: `10 - 2 = 8`\n- Multiplicación: `4 * 2 = 8`\n- División: `16 / 2 = 8`\n- Potencia: `2 ** 3 = 8`",
      "metadata": {}
    },
    {
      "cell_type": "code",
      "source": "#Multiplicación\nproducto = 6 * 7 \n\n#Suma\nsuma = 10 + 5\n\n#Mostrar resultados\n\nprint(\"El resultado de la multiplicación es:\", producto)\nprint(\"El resultado de la suma es:\", suma)\n",
      "metadata": {
        "trusted": true
      },
      "outputs": [
        {
          "name": "stdout",
          "text": "El resultado de la multiplicación es: 42\nEl resultado de la suma es: 15\n",
          "output_type": "stream"
        }
      ],
      "execution_count": 2
    },
    {
      "cell_type": "code",
      "source": "# Conversión de minutos a horas\nminutos = 150\nhoras = minutos / 60\nprint(minutos, \"minutos equivalentes a\", horas, \"horas\")",
      "metadata": {
        "trusted": true
      },
      "outputs": [
        {
          "name": "stdout",
          "text": "150 minutos equivalentes a 2.5 horas\n",
          "output_type": "stream"
        }
      ],
      "execution_count": 3
    },
    {
      "cell_type": "code",
      "source": "# Lista de objetivos del proyecto \nobjetivos = [\n    \"Aprender a usar JupyterLite\",\n    \"Practicar celdas Markdown y código\",\n    \"Aplicar conocmimientos básicos de Python\",\n    \"Usar librerías comunes en ciencia de datos\"\n]\nfor objetivo in objetivos: \n    print(\"-\", objetivo)",
      "metadata": {
        "trusted": true
      },
      "outputs": [
        {
          "name": "stdout",
          "text": "- Aprender a usar JupyterLite\n- Practicar celdas Markdown y código\n- Aplicar conocmimientos básicos de Python\n- Usar librerías comunes en ciencia de datos\n",
          "output_type": "stream"
        }
      ],
      "execution_count": 4
    },
    {
      "cell_type": "markdown",
      "source": "**Autor:** José Ignacio Carrasco Soto",
      "metadata": {}
    },
    {
      "cell_type": "code",
      "source": "",
      "metadata": {
        "trusted": true
      },
      "outputs": [],
      "execution_count": null
    }
  ]
}