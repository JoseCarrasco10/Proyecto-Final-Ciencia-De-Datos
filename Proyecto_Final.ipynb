{
  "metadata": {
    "kernelspec": {
      "name": "python",
      "display_name": "Python (Pyodide)",
      "language": "python"
    },
    "language_info": {
      "codemirror_mode": {
        "name": "python",
        "version": 3
      },
      "file_extension": ".py",
      "mimetype": "text/x-python",
      "name": "python",
      "nbconvert_exporter": "python",
      "pygments_lexer": "ipython3",
      "version": "3.8"
    }
  },
  "nbformat_minor": 4,
  "nbformat": 4,
  "cells": [
    {
      "cell_type": "markdown",
      "source": "# Final Project - Data Science Course",
      "metadata": {}
    },
    {
      "cell_type": "markdown",
      "source": "In this final project, I will apply the concepts learned about data science. I will use Markdown cells and Python code to demonstrate my knowledge, from basic operations to the use of analytical libraries.",
      "metadata": {}
    },
    {
      "cell_type": "markdown",
      "source": "## Programming languages used in Data Science\n1. Python\n2. R\n3. SQL\n4. Java\n5. Scala\n6. Julia",
      "metadata": {}
    },
    {
      "cell_type": "markdown",
      "source": "## Main Data Science libraries in Python\n- Pandas\n- NumPy\n- Matplotlib\n- Seaborn\n- Scikit-learn\n- TensorFlow",
      "metadata": {}
    },
    {
      "cell_type": "markdown",
      "source": "## Table of tools used in Data Science\n\n| Tool               | Brief Description                          |\n|--------------------|---------------------------------------------|\n| Jupyter Notebook   | Interactive environment for code and text  |\n| RStudio            | Environment for R analysis                 |\n| Apache Spark       | Big data processing                        |\n| TensorFlow         | Machine learning library                   |\n| Tableau            | Data visualization                         |",
      "metadata": {}
    },
    {
      "cell_type": "markdown",
      "source": "## Examples of arithmetic expressions in Python\n\n- Addition: `5 + 3 = 8`\n- Subtraction: `10 - 2 = 8`\n- Multiplication: `4 * 2 = 8`\n- Division: `16 / 2 = 8`\n- Power: `2 ** 3 = 8`",
      "metadata": {}
    },
    {
      "cell_type": "code",
      "source": "# Multiplication\nproduct = 6 * 7 \n\n# Addition\nsum_result = 10 + 5\n\n# Show results\nprint(\"The result of the multiplication is:\", product)\nprint(\"The result of the addition is:\", sum_result)",
      "metadata": {
        "trusted": true
      },
      "outputs": [
        {
          "name": "stdout",
          "text": "The result of the multiplication is: 42\nThe result of the addition is: 15\n",
          "output_type": "stream"
        }
      ],
      "execution_count": 2
    },
    {
      "cell_type": "code",
      "source": "# Convert minutes to hours\nminutes = 150\nhours = minutes / 60\nprint(minutes, \"minutes are equivalent to\", hours, \"hours\")",
      "metadata": {
        "trusted": true
      },
      "outputs": [
        {
          "name": "stdout",
          "text": "150 minutes are equivalent to 2.5 hours\n",
          "output_type": "stream"
        }
      ],
      "execution_count": 3
    },
    {
      "cell_type": "code",
      "source": "# List of project objectives\nobjectives = [\n    \"Learn to use JupyterLite\",\n    \"Practice Markdown and code cells\",\n    \"Apply basic Python knowledge\",\n    \"Use common data science libraries\"\n]\nfor objective in objectives:\n    print(\"-\", objective)",
      "metadata": {
        "trusted": true
      },
      "outputs": [
        {
          "name": "stdout",
          "text": "- Learn to use JupyterLite\n- Practice Markdown and code cells\n- Apply basic Python knowledge\n- Use common data science libraries\n",
          "output_type": "stream"
        }
      ],
      "execution_count": 4
    },
    {
      "cell_type": "markdown",
      "source": "**Author:** José Ignacio Carrasco Soto",
      "metadata": {}
    },
    {
      "cell_type": "code",
      "source": "",
      "metadata": {
        "trusted": true
      },
      "outputs": [],
      "execution_count": null
    }
  ]
}
